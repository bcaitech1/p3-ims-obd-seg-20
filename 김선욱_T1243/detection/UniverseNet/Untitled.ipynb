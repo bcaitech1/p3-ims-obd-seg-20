{
 "cells": [
  {
   "cell_type": "code",
   "execution_count": 1,
   "id": "6e44e49e-ec77-4139-bfc1-21d5433ea8ed",
   "metadata": {},
   "outputs": [],
   "source": [
    "from mmcv import Config\n",
    "from mmdet.datasets import build_dataset\n",
    "from mmdet.models import build_detector\n",
    "from mmdet.apis import train_detector\n",
    "from mmdet.datasets import (build_dataloader, build_dataset,\n",
    "                            replace_ImageToTensor)\n"
   ]
  },
  {
   "cell_type": "code",
   "execution_count": 12,
   "id": "5207ddf4-c0cb-4993-96b2-96e1e9041314",
   "metadata": {},
   "outputs": [
    {
     "name": "stdout",
     "output_type": "stream",
     "text": [
      "[{'type': 'LoadImageFromFile'}, {'type': 'LoadAnnotations', 'with_bbox': True, 'with_mask': True}, {'type': 'Resize', 'img_scale': (512, 512), 'keep_ratio': True}, {'type': 'Pad', 'size_divisor': 32}, {'type': 'RandomFlip', 'flip_ratio': 0.5}, {'type': 'Albu', 'transforms': [{'type': 'OneOf', 'transforms': [{'type': 'Rotate', 'limit': 10, 'p': 0.6}, {'type': 'HorizontalFlip', 'p': 0.6}], 'p': 0.1}, {'type': 'ShiftScaleRotate', 'p': 0.5}], 'bbox_params': {'type': 'BboxParams', 'format': 'pascal_voc', 'label_fields': ['gt_labels'], 'min_visibility': 0.0, 'filter_lost_elements': True}, 'keymap': {'img': 'image', 'gt_bboxes': 'bboxes', 'gt_masks': 'masks'}, 'update_pad_shape': False, 'skip_img_without_anno': True}, {'type': 'Normalize', 'mean': [123.675, 116.28, 103.53], 'std': [58.395, 57.12, 57.375], 'to_rgb': True}, {'type': 'DefaultFormatBundle'}, {'type': 'Collect', 'keys': ['img', 'gt_bboxes', 'gt_labels', 'gt_masks']}]\n",
      "{'policy': 'step', 'warmup': 'linear', 'warmup_iters': 5, 'warmup_ratio': 0.001, 'step': [10, 15, 20, 25]}\n"
     ]
    }
   ],
   "source": [
    "classes = (\"UNKNOWN\", \"General trash\", \"Paper\", \"Paper pack\", \"Metal\", \"Glass\", \n",
    "           \"Plastic\", \"Styrofoam\", \"Plastic bag\", \"Battery\", \"Clothing\")\n",
    "# config file 들고오기\n",
    "# cfg = Config.fromfile('./configs/faster_rcnn/faster_rcnn_r50_fpn_1x_coco.py')\n",
    "# cfg = Config.fromfile('./configs/cascade_rcnn/cascade_rcnn_x101_32x4d_fpn_1x_coco.py')\n",
    "# cfg = Config.fromfile('./configs/universenet/universenet101_2008d_fp16_4x4_mstrain_480_960_20e_coco.py')\n",
    "cfg = Config.fromfile('./configs/swin/cascade_mask_rcnn_swin_base_patch4_window7_mstrain_480-800_giou_4conv1f_adamw_3x_coco.py')\n",
    "\n",
    "PREFIX = '../../input/data/'\n",
    "\n",
    "\n",
    "# dataset 바꾸기\n",
    "cfg.data.train.classes = classes\n",
    "cfg.data.train.img_prefix = PREFIX\n",
    "cfg.data.train.ann_file = PREFIX + 'train.json'\n",
    "cfg.data.train.pipeline[2]['img_scale'] = (512, 512)\n",
    "\n",
    "print(cfg.data.train.pipeline)\n",
    "cfg.data.val.classes = classes\n",
    "cfg.data.val.img_prefix = PREFIX\n",
    "cfg.data.val.ann_file = PREFIX + 'val.json'\n",
    "cfg.data.val.pipeline[1]['img_scale'] = (512, 512)\n",
    "\n",
    "\n",
    "cfg.data.test.classes = classes\n",
    "cfg.data.test.img_prefix = PREFIX\n",
    "cfg.data.test.ann_file = PREFIX + 'test.json'\n",
    "cfg.data.test.pipeline[1]['img_scale'] = (512, 512)\n",
    "\n",
    "cfg.data.samples_per_gpu = 4\n",
    "\n",
    "cfg.seed=2020\n",
    "cfg.gpu_ids = [0]\n",
    "cfg.work_dir = './work_dirs/universe101'\n",
    "\n",
    "# cfg.model.roi_head.bbox_head.num_classes = 11\n",
    "\n",
    "cfg.optimizer_config.grad_clip = dict(max_norm=35, norm_type=2)\n",
    "cfg.evaluation = dict(interval=1, metric=\"bbox\", save_best=\"bbox_mAP_50\")\n",
    "cfg.log_config.hooks[1].init_kwargs.project = 'mask_swin'\n",
    "cfg.log_config.hooks[1].init_kwargs.name = 'mask_swin_0'\n",
    "\n",
    "print(cfg.lr_config)"
   ]
  },
  {
   "cell_type": "code",
   "execution_count": null,
   "id": "43b39048-2489-4e64-9bee-ff27e6c37d25",
   "metadata": {},
   "outputs": [],
   "source": []
  },
  {
   "cell_type": "code",
   "execution_count": null,
   "id": "5592822b-ed4d-4e01-a3d1-bc84f8cc44ac",
   "metadata": {},
   "outputs": [],
   "source": []
  }
 ],
 "metadata": {
  "kernelspec": {
   "display_name": "Python 3",
   "language": "python",
   "name": "python3"
  },
  "language_info": {
   "codemirror_mode": {
    "name": "ipython",
    "version": 3
   },
   "file_extension": ".py",
   "mimetype": "text/x-python",
   "name": "python",
   "nbconvert_exporter": "python",
   "pygments_lexer": "ipython3",
   "version": "3.7.7"
  }
 },
 "nbformat": 4,
 "nbformat_minor": 5
}
